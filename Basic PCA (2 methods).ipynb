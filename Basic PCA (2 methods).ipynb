{
 "cells": [
  {
   "cell_type": "code",
   "execution_count": 4,
   "metadata": {},
   "outputs": [
    {
     "name": "stdout",
     "output_type": "stream",
     "text": [
      "   ingresos  gastos_comunes  pago_coche  gastos_otros  ahorros  vivienda  \\\n",
      "0      6000            1000           0           600    50000    400000   \n",
      "1      6745             944         123           429    43240    636897   \n",
      "2      6455            1033          98           795    57463    321779   \n",
      "3      7098            1278          15           254    54506    660933   \n",
      "4      6167             863         223           520    41512    348932   \n",
      "5      5692             911          11           325    50875    360863   \n",
      "6      6830            1298         345           309    46761    429812   \n",
      "7      6470            1035          39           782    57439    606291   \n",
      "8      6251            1250         209           571    50503    291010   \n",
      "9      6987            1258         252           245    40611    324098   \n",
      "\n",
      "   estado_civil  hijos  trabajo  comprar  \n",
      "0             0      2        2        1  \n",
      "1             1      3        6        0  \n",
      "2             2      1        8        1  \n",
      "3             0      0        3        0  \n",
      "4             0      0        3        1  \n",
      "5             1      4        5        1  \n",
      "6             1      1        5        1  \n",
      "7             0      0        1        0  \n",
      "8             0      0        3        1  \n",
      "9             2      1        7        1  \n"
     ]
    }
   ],
   "source": 
    "import pandas as pd\n",
    "import numpy as np\n",
    "import matplotlib.pyplot as plt\n",
    "from sklearn.decomposition import PCA\n",
    "from sklearn.preprocessing import StandardScaler\n",
    " \n",
    "#cargamos los datos de entrada\n",
    "dataframe = pd.read_csv(r\"C:\\........................\\comprar_alquilar.csv\")\n",
    "print(dataframe.head(10))\n",
    " \n",
    "#normalizamos los datos\n",
    "scaler=StandardScaler()\n",
    "df = dataframe.drop(['comprar'], axis=1)\n",
    "X_std=scaler.fit_transform(df)# Normalizar\n",
    " \n"
   ]
  },
  {
   "cell_type": "code",
   "execution_count": null,
   "metadata": {},
   "outputs": [],
   "source": [
    "#Fisrt Option "
   ]
  },
  {
   "cell_type": "code",
   "execution_count": 6,
   "metadata": {},
   "outputs": [
    {
     "name": "stdout",
     "output_type": "stream",
     "text": [
      "NumPy covariance matrix: \n",
      "[[ 1.00497512  0.5629981  -0.11032655 -0.12472213  0.71643609  0.61777897\n",
      "  -0.04276731 -0.02460492 -0.03904572]\n",
      " [ 0.5629981   1.00497512 -0.05467034 -0.10037758  0.21045568  0.20579933\n",
      "  -0.05743681 -0.07268108 -0.07948892]\n",
      " [-0.11032655 -0.05467034  1.00497512  0.01065519 -0.19426111 -0.09510155\n",
      "   0.0524989  -0.04508134  0.01903984]\n",
      " [-0.12472213 -0.10037758  0.01065519  1.00497512 -0.06470463 -0.05484819\n",
      "  -0.02032621  0.12546587  0.04754858]\n",
      " [ 0.71643609  0.21045568 -0.19426111 -0.06470463  1.00497512  0.60884971\n",
      "  -0.06335265  0.00145255 -0.02394761]\n",
      " [ 0.61777897  0.20579933 -0.09510155 -0.05484819  0.60884971  1.00497512\n",
      "  -0.11398447 -0.14263039 -0.21284321]\n",
      " [-0.04276731 -0.05743681  0.0524989  -0.02032621 -0.06335265 -0.11398447\n",
      "   1.00497512  0.51013414  0.59244489]\n",
      " [-0.02460492 -0.07268108 -0.04508134  0.12546587  0.00145255 -0.14263039\n",
      "   0.51013414  1.00497512  0.70339821]\n",
      " [-0.03904572 -0.07948892  0.01903984  0.04754858 -0.02394761 -0.21284321\n",
      "   0.59244489  0.70339821  1.00497512]]\n",
      "\n",
      "\n",
      "Autovectores \n",
      "[[-4.93720326e-01 -3.06958523e-01 -9.14192492e-02  1.11222044e-01\n",
      "  -8.88965452e-02 -7.76989739e-01 -7.54772584e-02 -1.54318903e-01\n",
      "  -1.27315337e-02]\n",
      " [-3.18228652e-01 -1.47372634e-01 -3.63453156e-01  8.16296251e-02\n",
      "  -7.63005855e-01  3.74439739e-01  6.79027972e-02  1.05597504e-01\n",
      "   1.02744705e-02]\n",
      " [ 1.23770585e-01  9.16409584e-02 -5.16144106e-01  7.80267686e-01\n",
      "   2.65553621e-01  4.85573127e-02 -1.53696523e-01 -2.73330932e-02\n",
      "  -6.17585617e-02]\n",
      " [ 1.11875722e-01 -1.11593405e-04  7.01985912e-01  5.90704378e-01\n",
      "  -3.30743735e-01 -2.66312737e-02  1.54422329e-01 -1.01876185e-01\n",
      "   3.79772484e-02]\n",
      " [-4.44650306e-01 -2.88434882e-01  1.91767355e-01  2.28391302e-02\n",
      "   2.89002223e-01  4.74167761e-01 -2.30180519e-01 -5.24583921e-01\n",
      "  -2.12758945e-01]\n",
      " [-4.62608605e-01 -1.48984886e-01  1.40513292e-01  1.50085403e-01\n",
      "   3.65555555e-01  1.56100840e-01  2.90798556e-01  6.41033631e-01\n",
      "   2.60846538e-01]\n",
      " [ 2.52278902e-01 -4.69043960e-01 -1.72884784e-01 -7.66309571e-03\n",
      "   1.04638865e-01  3.28928950e-03  7.67069963e-01 -2.12365274e-01\n",
      "  -2.04816499e-01]\n",
      " [ 2.59858682e-01 -5.21893872e-01  1.12183561e-01  7.40404830e-03\n",
      "  -4.36678973e-02 -1.10512225e-02 -3.87963615e-01  4.60066684e-01\n",
      "  -5.32216258e-01]\n",
      " [ 2.90247540e-01 -5.27155638e-01 -3.69101842e-02 -7.49271067e-03\n",
      "  -8.65473020e-06  6.06572632e-02 -2.56445999e-01 -1.05053409e-01\n",
      "   7.45630420e-01]]\n",
      "\n",
      "Autovalores \n",
      "[2.70561424 2.10697364 1.05925553 0.96649057 0.87148938 0.17783067\n",
      " 0.50920879 0.37495835 0.27295496]\n"
     ]
    }
   ],
   "source": [
    "print('NumPy covariance matrix: \\n%s' %np.cov(X_std.T)) #features\n",
    "\n",
    "#mayor dispersión de los datos=mayor información\n",
    "#Calculamos los autovalores y autovectores de la matriz y los mostramos\n",
    "\n",
    "cov_mat = np.cov(X_std.T)\n",
    "eig_vals, eig_vecs = np.linalg.eig(cov_mat)\n",
    "\n",
    "print('\\n\\nAutovectores \\n%s' %eig_vecs)\n",
    "print('\\nAutovalores \\n%s' %eig_vals)"
   ]
  },
  {
   "cell_type": "code",
   "execution_count": 7,
   "metadata": {},
   "outputs": [
    {
     "name": "stdout",
     "output_type": "stream",
     "text": [
      "Autovalores en orden descendiente:\n",
      "2.7056142369540988\n",
      "2.106973636868551\n",
      "1.0592555257342333\n",
      "0.9664905693397854\n",
      "0.8714893793643398\n",
      "0.5092087926378531\n",
      "0.374958346270007\n",
      "0.27295496297378063\n",
      "0.17783066926033975\n"
     ]
    }
   ],
   "source": [
    "eig_pairs = [(np.abs(eig_vals[i]), eig_vecs[:,i]) for i in range(len(eig_vals))]\n",
    "\n",
    "# Ordenamos estas parejas den orden descendiente con la función sort\n",
    "eig_pairs.sort(key=lambda x: x[0], reverse=True)\n",
    "\n",
    "# Visualizamos la lista de autovalores en orden desdenciente\n",
    "print('Autovalores en orden descendiente:')\n",
    "for i in eig_pairs:\n",
    "    print(i[0])"
   ]
  },
  {
   "cell_type": "code",
   "execution_count": null,
   "metadata": {},
   "outputs": [],
   "source": [
    "# Second Option = Here we are applying PCA() components"
   ]
  },
  {
   "cell_type": "code",
   "execution_count": 16,
   "metadata": {},
   "outputs": [
    {
     "name": "stdout",
     "output_type": "stream",
     "text": [
      "shape of X_pca (202, 5)\n",
      "\n",
      "Singular Vaues: \n",
      " [23.32012997 20.57915696 14.5914482  13.93788379 13.23515641]\n",
      "\n",
      "Variance: \n",
      " [2.70561424 2.10697364 1.05925553 0.96649057 0.87148938]\n"
     ]
    }
   ],
   "source": [
    "#Aplicar PCA\n",
    "pca=PCA(n_components=5)\n",
    "pca.fit(X_std) # obtener los componentes principales\n",
    "X_pca=pca.transform(X_std) # convertimos nuestros datos con las nuevas dimensiones de PCA\n",
    " \n",
    "    \n",
    "#Al igual que un autovector es una dirección, el autovalor es un número, que representa el valor de la varianza sobre ese autovector.\n",
    "print(\"shape of X_pca\", X_pca.shape)\n",
    "\n",
    "print(\"\\nSingular Vaues: \\n\",pca.singular_values_)\n",
    "print(\"\\nVariance: \\n\",pca.explained_variance_)\n"
   ]
  },
  {
   "cell_type": "code",
   "execution_count": 27,
   "metadata": {},
   "outputs": [
    {
     "data": {
      "image/png": "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\n",
      "text/plain": [
       "<Figure size 432x288 with 1 Axes>"
      ]
     },
     "metadata": {
      "needs_background": "light"
     },
     "output_type": "display_data"
    }
   ],
   "source": [
    "X_new = pca.inverse_transform(X_pca)\n",
    "plt.scatter(X_std[:, 0], X_std[:, 1], alpha=0.2) # datos originales\n",
    "plt.scatter(X_new[:, 0], X_new[:, 1], alpha=0.8) # pca\n",
    "plt.axis('equal');"
   ]
  }
 ],
 "metadata": {
  "kernelspec": {
   "display_name": "Python 3",
   "language": "python",
   "name": "python3"
  },
  "language_info": {
   "codemirror_mode": {
    "name": "ipython",
    "version": 3
   },
   "file_extension": ".py",
   "mimetype": "text/x-python",
   "name": "python",
   "nbconvert_exporter": "python",
   "pygments_lexer": "ipython3",
   "version": "3.8.5"
  }
 },
 "nbformat": 4,
 "nbformat_minor": 4
}
